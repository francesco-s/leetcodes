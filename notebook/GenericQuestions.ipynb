{
 "cells": [
  {
   "cell_type": "code",
   "execution_count": 15,
   "metadata": {},
   "outputs": [],
   "source": [
    "input = \"aaaabbbcca\"\n",
    "expected_output = [(\"a\", 4), (\"b\", 3), (\"c\", 2), (\"a\", 1)]\n",
    "\n",
    "counter = 0\n",
    "old_char = input[0]\n",
    "out = []\n",
    "\n",
    "for char in input[1:]:\n",
    "    counter += 1\n",
    "    if char != old_char:\n",
    "        out.append((old_char, counter))\n",
    "        counter = 0\n",
    "    old_char = char\n",
    "\n",
    "out.append((old_char, counter + 1))\n",
    "\n",
    "assert out == expected_output, f\"Expected {expected_output}, but got {out}\""
   ]
  },
  {
   "cell_type": "code",
   "execution_count": 1,
   "metadata": {},
   "outputs": [
    {
     "name": "stdout",
     "output_type": "stream",
     "text": [
      "120\n"
     ]
    }
   ],
   "source": [
    "def fattoriale(n):\n",
    "    if n == 0 or n == 1:\n",
    "        return 1\n",
    "    else:\n",
    "        return n * fattoriale(n - 1)\n",
    "\n",
    "# Esempio\n",
    "print(fattoriale(5))  # Output: 120"
   ]
  },
  {
   "cell_type": "code",
   "execution_count": 2,
   "metadata": {},
   "outputs": [
    {
     "name": "stdout",
     "output_type": "stream",
     "text": [
      "13\n"
     ]
    }
   ],
   "source": [
    "def fibonacci(n):\n",
    "    if n <= 1:\n",
    "        return n\n",
    "    else:\n",
    "        return fibonacci(n - 1) + fibonacci(n - 2)\n",
    "\n",
    "# Esempio\n",
    "print(fibonacci(7))  # Output: 13"
   ]
  },
  {
   "cell_type": "code",
   "execution_count": 3,
   "metadata": {},
   "outputs": [
    {
     "name": "stdout",
     "output_type": "stream",
     "text": [
      "15\n"
     ]
    }
   ],
   "source": [
    "def somma_lista(lista):\n",
    "    if len(lista) == 0:\n",
    "        return 0\n",
    "    else:\n",
    "        return lista[0] + somma_lista(lista[1:])\n",
    "\n",
    "# Esempio\n",
    "print(somma_lista([1, 2, 3, 4, 5]))  # Output: 15"
   ]
  },
  {
   "cell_type": "code",
   "execution_count": 4,
   "metadata": {},
   "outputs": [
    {
     "name": "stdout",
     "output_type": "stream",
     "text": [
      "6\n"
     ]
    }
   ],
   "source": [
    "def mcd(a, b):\n",
    "    if b == 0:\n",
    "        return a\n",
    "    else:\n",
    "        return mcd(b, a % b)\n",
    "\n",
    "# Esempio\n",
    "print(mcd(48, 18))  # Output: 6"
   ]
  },
  {
   "cell_type": "code",
   "execution_count": 5,
   "metadata": {},
   "outputs": [
    {
     "name": "stdout",
     "output_type": "stream",
     "text": [
      "Torre di Hanoi con 3 dischi:\n",
      "Sposta il disco 1 da A a C\n",
      "Sposta il disco 2 da A a B\n",
      "Sposta il disco 1 da C a B\n",
      "Sposta il disco 3 da A a C\n",
      "Sposta il disco 1 da B a A\n",
      "Sposta il disco 2 da B a C\n",
      "Sposta il disco 1 da A a C\n"
     ]
    }
   ],
   "source": [
    "def hanoi(n, origine, destinazione, ausiliario):\n",
    "    if n == 1:\n",
    "        print(f\"Sposta il disco 1 da {origine} a {destinazione}\")\n",
    "        return\n",
    "    \n",
    "    hanoi(n - 1, origine, ausiliario, destinazione)\n",
    "    print(f\"Sposta il disco {n} da {origine} a {destinazione}\")\n",
    "    hanoi(n - 1, ausiliario, destinazione, origine)\n",
    "\n",
    "# Esempio\n",
    "print(\"Torre di Hanoi con 3 dischi:\")\n",
    "hanoi(3, 'A', 'C', 'B')"
   ]
  },
  {
   "cell_type": "code",
   "execution_count": 13,
   "metadata": {},
   "outputs": [
    {
     "name": "stdout",
     "output_type": "stream",
     "text": [
      "5\n",
      "-1\n",
      "-1\n"
     ]
    }
   ],
   "source": [
    "def ricerca_binaria(array, elemento, inizio, fine):\n",
    "    if inizio > fine:\n",
    "        return -1\n",
    "    \n",
    "    medio = (inizio + fine) // 2\n",
    "    \n",
    "    if array[medio] == elemento:\n",
    "        return medio\n",
    "    elif array[medio] > elemento:\n",
    "        return ricerca_binaria(array, elemento, inizio, medio - 1)\n",
    "    else:\n",
    "        return ricerca_binaria(array, elemento, medio + 1, fine)\n",
    "\n",
    "# Esempio\n",
    "array = [1, 3, 5, 7, 9, 11, 13, 15, 17]\n",
    "print(ricerca_binaria(array, 11, 0, len(array) - 1))  # Output: 5\n",
    "\n",
    "array = []\n",
    "print(ricerca_binaria(array, 11, 0, len(array) - 1))  # Output: -1\n",
    "\n",
    "nums = [-1, 0, 3, 5, 9, 12]\n",
    "print(ricerca_binaria(nums, 9, 0, len(array) - 1))  # Output: -1\n"
   ]
  },
  {
   "cell_type": "code",
   "execution_count": 7,
   "metadata": {},
   "outputs": [
    {
     "name": "stdout",
     "output_type": "stream",
     "text": [
      "[3, 9, 10, 27, 38, 43, 82]\n"
     ]
    }
   ],
   "source": [
    "def merge_sort(array):\n",
    "    if len(array) <= 1:\n",
    "        return array\n",
    "    \n",
    "    medio = len(array) // 2\n",
    "    sinistra = merge_sort(array[:medio])\n",
    "    destra = merge_sort(array[medio:])\n",
    "    \n",
    "    return merge(sinistra, destra)\n",
    "\n",
    "def merge(sinistra, destra):\n",
    "    risultato = []\n",
    "    i = j = 0\n",
    "    \n",
    "    while i < len(sinistra) and j < len(destra):\n",
    "        if sinistra[i] < destra[j]:\n",
    "            risultato.append(sinistra[i])\n",
    "            i += 1\n",
    "        else:\n",
    "            risultato.append(destra[j])\n",
    "            j += 1\n",
    "    \n",
    "    risultato.extend(sinistra[i:])\n",
    "    risultato.extend(destra[j:])\n",
    "    return risultato\n",
    "\n",
    "# Esempio\n",
    "print(merge_sort([38, 27, 43, 3, 9, 82, 10]))  # Output: [3, 9, 10, 27, 38, 43, 82]"
   ]
  },
  {
   "cell_type": "code",
   "execution_count": 8,
   "metadata": {},
   "outputs": [
    {
     "name": "stdout",
     "output_type": "stream",
     "text": [
      "[1, 1, 2, 3, 6, 8, 10]\n"
     ]
    }
   ],
   "source": [
    "def quick_sort(array):\n",
    "    if len(array) <= 1:\n",
    "        return array\n",
    "    \n",
    "    pivot = array[len(array) // 2]\n",
    "    sinistra = [x for x in array if x < pivot]\n",
    "    centro = [x for x in array if x == pivot]\n",
    "    destra = [x for x in array if x > pivot]\n",
    "    \n",
    "    return quick_sort(sinistra) + centro + quick_sort(destra)\n",
    "\n",
    "# Esempio\n",
    "print(quick_sort([3, 6, 8, 10, 1, 2, 1]))  # Output: [1, 1, 2, 3, 6, 8, 10]"
   ]
  },
  {
   "cell_type": "code",
   "execution_count": 7,
   "metadata": {},
   "outputs": [
    {
     "name": "stdout",
     "output_type": "stream",
     "text": [
      "Before func\n",
      "(1, 2, (3, 3)) {'sesso': 9}\n",
      "dentro funzione\n",
      "After func\n",
      "Decorator parameter: ('Test Parameter', 'ses')\n",
      "Before func\n",
      "Inside function: x=10, y=20\n",
      "After func\n"
     ]
    }
   ],
   "source": [
    "def decorator (func):\n",
    "    def wrapper(*arg, **kwargs):\n",
    "        print(\"Before func\")\n",
    "        print(arg, kwargs)\n",
    "        \n",
    "        func(*arg, **kwargs)\n",
    "        print(\"After func\")\n",
    "    \n",
    "    return wrapper\n",
    "\n",
    "@decorator\n",
    "def prova(a, b, j, sesso):\n",
    "    print(\"dentro funzione\")\n",
    "\n",
    "prova(1, 2, (3,3), sesso=9)\n",
    "\n",
    "# Example with decorator with parameters\n",
    "def decorator_with_params(param, param2):\n",
    "    def actual_decorator(func):\n",
    "        def wrapper(*args, **kwargs):\n",
    "            print(f\"Decorator parameter: {param, param2}\")\n",
    "            print(\"Before func\")\n",
    "            func(*args, **kwargs)\n",
    "            print(\"After func\")\n",
    "        return wrapper\n",
    "    return actual_decorator\n",
    "\n",
    "@decorator_with_params(\"Test Parameter\", \"ses\")\n",
    "def example_function(x, y):\n",
    "    print(f\"Inside function: x={x}, y={y}\")\n",
    "\n",
    "example_function(10, 20)"
   ]
  },
  {
   "cell_type": "code",
   "execution_count": 31,
   "metadata": {},
   "outputs": [
    {
     "name": "stdout",
     "output_type": "stream",
     "text": [
      "13\n",
      "100\n",
      "13\n",
      "100\n"
     ]
    }
   ],
   "source": [
    "def it(c):\n",
    "    a = 1 + c\n",
    "    b = 2\n",
    "    \n",
    "    yield a + b + c\n",
    "\n",
    "    yield 100\n",
    "\n",
    "\n",
    "# Example usage of the 'it' function\n",
    "generator = it(5)  # Pass a value for 'c'\n",
    "\n",
    "# Iterate over the generator\n",
    "for value in generator:\n",
    "    print(value)  # Output: 8, 100\n",
    "\n",
    "# Create a new generator instance\n",
    "generator = it(5)\n",
    "\n",
    "# Use next() to get values from the generator\n",
    "print(next(generator))  # Output: 8\n",
    "print(next(generator))  # Output: 100"
   ]
  },
  {
   "cell_type": "code",
   "execution_count": 1,
   "metadata": {},
   "outputs": [
    {
     "name": "stdout",
     "output_type": "stream",
     "text": [
      "Name mangling applicato\n"
     ]
    }
   ],
   "source": [
    "class Esempio:\n",
    "    def __init__(self):\n",
    "        self.__variabile_molto_privata = \"Name mangling applicato\"\n",
    "    \n",
    "    def metodo(self):\n",
    "        return self.__variabile_molto_privata\n",
    "\n",
    "esempio = Esempio()\n",
    "# print(esempio.__variabile_molto_privata)  # Errore!\n",
    "print(esempio._Esempio__variabile_molto_privata)  # Funziona, ma è decisamente sconsigliato"
   ]
  },
  {
   "cell_type": "code",
   "execution_count": 15,
   "metadata": {},
   "outputs": [
    {
     "name": "stdout",
     "output_type": "stream",
     "text": [
      "0\n",
      "25\n"
     ]
    }
   ],
   "source": [
    "class Persona:\n",
    "    def __init__(self):\n",
    "        self._eta = 0\n",
    "        \n",
    "    @property\n",
    "    def eta(self):\n",
    "        return self._eta\n",
    "        \n",
    "    @eta.setter\n",
    "    def eta(self, valore):\n",
    "        if valore < 0:\n",
    "            raise ValueError(\"L'età non può essere negativa\")\n",
    "        self._eta = valore\n",
    "\n",
    "# Uso\n",
    "p = Persona()\n",
    "print(p._eta)\n",
    "p.eta = 25  # Usa il setter\n",
    "print(p.eta)  # Usa il getter"
   ]
  },
  {
   "cell_type": "code",
   "execution_count": 2,
   "metadata": {},
   "outputs": [
    {
     "name": "stdout",
     "output_type": "stream",
     "text": [
      "[{'name': 'Charlie', 'age': 35}, {'name': 'Bob', 'age': 30}, {'name': 'Alice', 'age': 25}]\n"
     ]
    }
   ],
   "source": [
    "# Example dictionary with 'name' field\n",
    "people = [\n",
    "    {'name': 'Charlie', 'age': 35},\n",
    "    {'name': 'Alice', 'age': 25},\n",
    "    {'name': 'Bob', 'age': 30}\n",
    "]\n",
    "\n",
    "# More complex sorting: sort by age descending, then by name length, then alphabetically\n",
    "def complex_sort(person):\n",
    "    return (-person['age'], len(person['name']), person['name'])\n",
    "\n",
    "sorted_people = sorted(people, key=complex_sort)\n",
    "print(sorted_people)\n"
   ]
  }
 ],
 "metadata": {
  "kernelspec": {
   "display_name": "base",
   "language": "python",
   "name": "python3"
  },
  "language_info": {
   "codemirror_mode": {
    "name": "ipython",
    "version": 3
   },
   "file_extension": ".py",
   "mimetype": "text/x-python",
   "name": "python",
   "nbconvert_exporter": "python",
   "pygments_lexer": "ipython3",
   "version": "3.12.3"
  }
 },
 "nbformat": 4,
 "nbformat_minor": 2
}
